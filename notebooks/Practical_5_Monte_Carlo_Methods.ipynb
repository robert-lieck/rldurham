{
 "cells": [
  {
   "cell_type": "markdown",
   "metadata": {},
   "source": [
    "# Practical 5: Monte Carlo Methods"
   ]
  },
  {
   "cell_type": "code",
   "execution_count": 1,
   "metadata": {},
   "outputs": [],
   "source": [
    "import numpy as np\n",
    "import rldurham as rld\n",
    "\n",
    "import matplotlib.pyplot as plt\n",
    "from IPython import display as disp"
   ]
  },
  {
   "cell_type": "code",
   "execution_count": 2,
   "metadata": {
    "colab": {
     "base_uri": "https://localhost:8080/"
    },
    "id": "mtH_z1d58Rx7",
    "outputId": "6b72fe78-2c50-4705-ef2b-499066f868f2"
   },
   "outputs": [
    {
     "name": "stderr",
     "output_type": "stream",
     "text": [
      "Seed set to 42\n"
     ]
    },
    {
     "data": {
      "text/plain": [
       "(42, 0, {'prob': 1})"
      ]
     },
     "execution_count": 2,
     "metadata": {},
     "output_type": "execute_result"
    }
   ],
   "source": [
    "# import the frozen lake gym environment\n",
    "env = rld.make('FrozenLake-v1', is_slippery=False)\n",
    "rld.seed_everything(42, env)"
   ]
  },
  {
   "cell_type": "code",
   "execution_count": 3,
   "metadata": {
    "id": "kqjKo1St-imQ"
   },
   "outputs": [],
   "source": [
    "# plotting\n",
    "ep_reward = 0\n",
    "reward_list = [[]]\n",
    "plot_data = [[]]\n",
    "plot_labels = []\n",
    "auc = [0]\n",
    "experiment_id = 0"
   ]
  },
  {
   "cell_type": "code",
   "execution_count": 4,
   "metadata": {
    "colab": {
     "base_uri": "https://localhost:8080/",
     "height": 449
    },
    "id": "LNUgWBh08Tle",
    "outputId": "5c7a38d4-99ba-4623-e796-f6c79a5da934"
   },
   "outputs": [
    {
     "data": {
      "image/png": "[encoded data removed]",
      "text/plain": [
       "<Figure size 640x480 with 1 Axes>"
      ]
     },
     "metadata": {},
     "output_type": "display_data"
    }
   ],
   "source": [
    "Q = np.zeros([env.observation_space.n, env.action_space.n])\n",
    "n_s_a = np.zeros([env.observation_space.n, env.action_space.n])\n",
    "num_episodes = 15000\n",
    "epsilon = np.random.rand()*0.2+0.35 # change this each run\n",
    "plot_labels.append(\"eps: {:.3f}\".format(epsilon))\n",
    "\n",
    "for episode in range(num_episodes):\n",
    "    state, info = env.reset()\n",
    "    done = False\n",
    "    results_list = []\n",
    "    result_sum = 0.0\n",
    "    while not done:\n",
    "        if np.random.rand() > epsilon:\n",
    "            action = np.argmax(Q[state, :])\n",
    "        else:\n",
    "            action = env.action_space.sample()\n",
    "        new_state, reward, term, trunc, info = env.step(action)\n",
    "        done = term or trunc\n",
    "        results_list.append((state, action))\n",
    "        result_sum += reward\n",
    "        state = new_state\n",
    "\n",
    "    for (state, action) in results_list:\n",
    "        n_s_a[state, action] += 1.0\n",
    "        alpha = 1.0 / n_s_a[state, action]\n",
    "        Q[state, action] += alpha * (result_sum - Q[state, action])\n",
    "\n",
    "    reward_list[experiment_id].append(result_sum)\n",
    "    auc[experiment_id] += int(result_sum)\n",
    "\n",
    "    if episode % 1000 == 0:\n",
    "        plot_data[experiment_id].append([episode, np.array(reward_list[experiment_id]).mean(),\n",
    "            np.array(reward_list[experiment_id]).std()])\n",
    "        reward_list[experiment_id] = []\n",
    "\n",
    "        for i in range(len(plot_data)):\n",
    "            plt.plot([x[0] for x in plot_data[i]], [x[1] for x in plot_data[i]],\n",
    "                     '-', \n",
    "                     # color=colors[i], \n",
    "                     label=plot_labels[i] + ', AUC: '+str(auc[i]))\n",
    "        plt.xlabel('Episode number')\n",
    "        plt.ylabel('Episode reward')\n",
    "        plt.legend()\n",
    "        disp.clear_output(wait=True)\n",
    "        plt.show()\n",
    "\n",
    "\n",
    "env.close()\n",
    "\n",
    "# advance to next experiment (so when we run the cell again we retain previous results)\n",
    "experiment_id += 1\n",
    "reward_list.append([])\n",
    "plot_data.append([])\n",
    "auc.append(0)"
   ]
  },
  {
   "cell_type": "code",
   "execution_count": 5,
   "metadata": {
    "colab": {
     "base_uri": "https://localhost:8080/"
    },
    "id": "DRrtVREG8VyY",
    "outputId": "956ec83f-7a3b-4888-e8d5-5b524784fe15"
   },
   "outputs": [
    {
     "name": "stderr",
     "output_type": "stream",
     "text": [
      "Seed set to 42\n"
     ]
    },
    {
     "data": {
      "text/plain": [
       "(42, 0, {'prob': 1})"
      ]
     },
     "execution_count": 5,
     "metadata": {},
     "output_type": "execute_result"
    }
   ],
   "source": [
    "env = rld.make('FrozenLake8x8-v1', is_slippery=False)\n",
    "rld.seed_everything(42, env)"
   ]
  },
  {
   "cell_type": "code",
   "execution_count": 6,
   "metadata": {
    "colab": {
     "base_uri": "https://localhost:8080/",
     "height": 449
    },
    "id": "7sJxFUoq8aUP",
    "outputId": "146771ce-1ccd-415c-b4a0-6b6f644e7b58"
   },
   "outputs": [
    {
     "ename": "NameError",
     "evalue": "name 'colors' is not defined",
     "output_type": "error",
     "traceback": [
      "\u001b[0;31m---------------------------------------------------------------------------\u001b[0m",
      "\u001b[0;31mNameError\u001b[0m                                 Traceback (most recent call last)",
      "Cell \u001b[0;32mIn[6], line 43\u001b[0m\n\u001b[1;32m     39\u001b[0m reward_list[experiment_id] \u001b[38;5;241m=\u001b[39m []\n\u001b[1;32m     41\u001b[0m \u001b[38;5;28;01mfor\u001b[39;00m i \u001b[38;5;129;01min\u001b[39;00m \u001b[38;5;28mrange\u001b[39m(\u001b[38;5;28mlen\u001b[39m(plot_data)):\n\u001b[1;32m     42\u001b[0m     plt\u001b[38;5;241m.\u001b[39mplot([x[\u001b[38;5;241m0\u001b[39m] \u001b[38;5;28;01mfor\u001b[39;00m x \u001b[38;5;129;01min\u001b[39;00m plot_data[i]], [x[\u001b[38;5;241m1\u001b[39m] \u001b[38;5;28;01mfor\u001b[39;00m x \u001b[38;5;129;01min\u001b[39;00m plot_data[i]],\n\u001b[0;32m---> 43\u001b[0m              \u001b[38;5;124m'\u001b[39m\u001b[38;5;124m-\u001b[39m\u001b[38;5;124m'\u001b[39m, color\u001b[38;5;241m=\u001b[39m\u001b[43mcolors\u001b[49m[i\u001b[38;5;241m%\u001b[39m\u001b[38;5;241m10\u001b[39m], label\u001b[38;5;241m=\u001b[39mplot_labels[i] \u001b[38;5;241m+\u001b[39m \u001b[38;5;124m'\u001b[39m\u001b[38;5;124m, AUC: \u001b[39m\u001b[38;5;124m'\u001b[39m\u001b[38;5;241m+\u001b[39m\u001b[38;5;28mstr\u001b[39m(auc[i]))\n\u001b[1;32m     44\u001b[0m plt\u001b[38;5;241m.\u001b[39mxlabel(\u001b[38;5;124m'\u001b[39m\u001b[38;5;124mEpisode number\u001b[39m\u001b[38;5;124m'\u001b[39m)\n\u001b[1;32m     45\u001b[0m plt\u001b[38;5;241m.\u001b[39mylabel(\u001b[38;5;124m'\u001b[39m\u001b[38;5;124mEpisode reward\u001b[39m\u001b[38;5;124m'\u001b[39m)\n",
      "\u001b[0;31mNameError\u001b[0m: name 'colors' is not defined"
     ]
    }
   ],
   "source": [
    "Q = np.zeros([env.observation_space.n, env.action_space.n])\n",
    "n_s_a = np.zeros([env.observation_space.n, env.action_space.n])\n",
    "num_episodes = 15000\n",
    "c = .1\n",
    "plot_labels.append(f\"UCB1: c={c}\")\n",
    "\n",
    "for episode in range(num_episodes+1):\n",
    "    state, info = env.reset()\n",
    "    done = False\n",
    "    results_list = []\n",
    "    result_sum = 0.0\n",
    "    while not done:\n",
    "        if np.any(n_s_a[state] == 0):\n",
    "            # first, try every action at least once\n",
    "            action = np.random.choice(np.argwhere(n_s_a[state] == 0).flatten())\n",
    "        else:\n",
    "            # then, use upper bounds to choose actions\n",
    "            R_s_a = Q[state, :]\n",
    "            n_s_a_ = n_s_a[state]\n",
    "            n_s = n_s_a_.sum()\n",
    "            B_s_a = R_s_a + 2 * c * np.sqrt(2 * np.log(n_s) / n_s_a_)\n",
    "            action = np.random.choice(np.argwhere(B_s_a==np.max(B_s_a)).flatten())\n",
    "        new_state, reward, term, trunc, info = env.step(action)\n",
    "        done = term or trunc\n",
    "        results_list.append((state, action))\n",
    "        result_sum += reward\n",
    "        state = new_state\n",
    "\n",
    "    for (state, action) in results_list:\n",
    "        n_s_a[state, action] += 1.0\n",
    "        alpha = 1.0 / n_s_a[state, action]\n",
    "        Q[state, action] += alpha * (result_sum - Q[state, action])\n",
    "\n",
    "    reward_list[experiment_id].append(result_sum)\n",
    "    auc[experiment_id] += int(result_sum)\n",
    "\n",
    "    if episode % 1000 == 0:\n",
    "        plot_data[experiment_id].append([episode, np.array(reward_list[experiment_id]).mean(), np.array(reward_list[experiment_id]).std()])\n",
    "        reward_list[experiment_id] = []\n",
    "\n",
    "        for i in range(len(plot_data)):\n",
    "            plt.plot([x[0] for x in plot_data[i]], [x[1] for x in plot_data[i]],\n",
    "                     '-', color=colors[i%10], label=plot_labels[i] + ', AUC: '+str(auc[i]))\n",
    "        plt.xlabel('Episode number')\n",
    "        plt.ylabel('Episode reward')\n",
    "        plt.legend()\n",
    "        disp.clear_output(wait=True)\n",
    "        plt.show()\n",
    "\n",
    "\n",
    "env.close()\n",
    "\n",
    "# advance to next experiment (so when we run the cell again we retain previous results)\n",
    "experiment_id += 1\n",
    "reward_list.append([])\n",
    "plot_data.append([])\n",
    "\n",
    "auc.append(0)"
   ]
  }
 ],
 "metadata": {
  "colab": {
   "provenance": []
  },
  "kernelspec": {
   "display_name": "Python 3 (ipykernel)",
   "language": "python",
   "name": "python3"
  },
  "language_info": {
   "codemirror_mode": {
    "name": "ipython",
    "version": 3
   },
   "file_extension": ".py",
   "mimetype": "text/x-python",
   "name": "python",
   "nbconvert_exporter": "python",
   "pygments_lexer": "ipython3",
   "version": "3.10.13"
  }
 },
 "nbformat": 4,
 "nbformat_minor": 4
}
